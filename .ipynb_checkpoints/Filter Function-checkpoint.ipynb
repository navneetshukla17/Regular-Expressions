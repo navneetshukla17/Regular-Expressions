{
 "cells": [
  {
   "cell_type": "code",
   "execution_count": 25,
   "id": "af5191f8",
   "metadata": {},
   "outputs": [
    {
     "name": "stdout",
     "output_type": "stream",
     "text": [
      "One Way: [5, 6, 7]\n",
      "Another Way: [5, 6, 7]\n"
     ]
    }
   ],
   "source": [
    "# write a program to only print numbers > 4\n",
    "nums = [1, 2, 3, 4, 5, 6, 7]\n",
    "# one way\n",
    "print('One Way:', list(filter(lambda x: x>4, nums)))\n",
    "\n",
    "# another way\n",
    "greater_than_4 = lambda x: x>4\n",
    "print('Another Way:', list(filter(greater_than_4, nums)))"
   ]
  },
  {
   "cell_type": "code",
   "execution_count": 26,
   "id": "fd3b3510",
   "metadata": {},
   "outputs": [
    {
     "data": {
      "text/plain": [
       "['Apple', 'Grapes', 'Orange']"
      ]
     },
     "execution_count": 26,
     "metadata": {},
     "output_type": "execute_result"
    }
   ],
   "source": [
    "# write a program using filter() to print friuts which have 'e' in their names\n",
    "fruits = ['Apple', 'Banana', 'Grapes', 'Mango', 'Orange']\n",
    "\n",
    "list(filter(lambda x: 'e' in x, fruits))"
   ]
  },
  {
   "cell_type": "code",
   "execution_count": null,
   "id": "7614c856",
   "metadata": {},
   "outputs": [],
   "source": []
  }
 ],
 "metadata": {
  "kernelspec": {
   "display_name": "Python 3 (ipykernel)",
   "language": "python",
   "name": "python3"
  },
  "language_info": {
   "codemirror_mode": {
    "name": "ipython",
    "version": 3
   },
   "file_extension": ".py",
   "mimetype": "text/x-python",
   "name": "python",
   "nbconvert_exporter": "python",
   "pygments_lexer": "ipython3",
   "version": "3.10.12"
  }
 },
 "nbformat": 4,
 "nbformat_minor": 5
}
